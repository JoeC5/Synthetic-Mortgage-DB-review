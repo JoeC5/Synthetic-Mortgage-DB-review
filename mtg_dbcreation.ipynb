{
  "nbformat": 4,
  "nbformat_minor": 0,
  "metadata": {
    "colab": {
      "provenance": [],
      "authorship_tag": "ABX9TyNMM5kTtvKynd6MxGEtHaSQ",
      "include_colab_link": true
    },
    "kernelspec": {
      "name": "python3",
      "display_name": "Python 3"
    },
    "language_info": {
      "name": "python"
    }
  },
  "cells": [
    {
      "cell_type": "markdown",
      "metadata": {
        "id": "view-in-github",
        "colab_type": "text"
      },
      "source": [
        "<a href=\"https://colab.research.google.com/github/JoeC5/Synthetic-Mortgage-DB-review/blob/main/mtg_dbcreation.ipynb\" target=\"_parent\"><img src=\"https://colab.research.google.com/assets/colab-badge.svg\" alt=\"Open In Colab\"/></a>"
      ]
    },
    {
      "cell_type": "markdown",
      "source": [
        "The following is to build a synthetic 30 year mortgage loan portfolio. The data will include:\n",
        "- customer ID\n",
        "- demographic information - age, income, credit score\n",
        "- property information - value, location, type\n",
        "- loan details - amount interest rate, LTV, origination date, FHA, Conventional\n",
        "- loan status - current, delinquent default"
      ],
      "metadata": {
        "id": "huqXAJ00k4eE"
      }
    },
    {
      "cell_type": "code",
      "source": [
        "!pip install faker"
      ],
      "metadata": {
        "id": "jQ3DJOaYqCtT",
        "colab": {
          "base_uri": "https://localhost:8080/"
        },
        "outputId": "a2a7531c-d69e-4a02-e8c6-d4a52705f4ac"
      },
      "execution_count": null,
      "outputs": [
        {
          "output_type": "stream",
          "name": "stdout",
          "text": [
            "Requirement already satisfied: faker in /usr/local/lib/python3.11/dist-packages (37.1.0)\n",
            "Requirement already satisfied: tzdata in /usr/local/lib/python3.11/dist-packages (from faker) (2025.2)\n"
          ]
        }
      ]
    },
    {
      "cell_type": "code",
      "execution_count": null,
      "metadata": {
        "id": "Y0wwQo6zk1tB"
      },
      "outputs": [],
      "source": [
        "import pandas as pd\n",
        "import numpy as np\n",
        "import random\n",
        "from datetime import datetime, timedelta\n",
        "from faker import Faker\n"
      ]
    },
    {
      "cell_type": "code",
      "source": [
        "#set random seed for reproducibility\n",
        "np.random.seed(42)\n",
        "random.seed(42)\n",
        "fake=Faker()\n",
        "Faker.seed(42)"
      ],
      "metadata": {
        "id": "hcP1CX5MoD_1"
      },
      "execution_count": null,
      "outputs": []
    },
    {
      "cell_type": "code",
      "source": [
        "#define the number of customers\n",
        "num_customers=1000"
      ],
      "metadata": {
        "id": "9KTMnLxcoYH_"
      },
      "execution_count": null,
      "outputs": []
    },
    {
      "cell_type": "code",
      "source": [
        "def generate_mortgage_data(num_customers):\n",
        "  #initialize lists to store customer data\n",
        "  customer_ids = range(1001, 1001 + num_customers)\n",
        "\n",
        "  #customer demographics\n",
        "  ages = np.random.normal(45, 10, num_customers).astype(int)\n",
        "  ages = np.clip(ages, 22, 75)\n",
        "\n",
        "  incomes = np.random.lognormal(mean=11, sigma=0.5, size=num_customers)  #log normal for income distribution\n",
        "  incomes = np.round(incomes).astype(int)\n",
        "\n",
        "  credit_scores = np.random.normal(720, 80, num_customers).astype(int)\n",
        "  credit_scores = np.clip(credit_scores, 580, 850)  #clip to valid FICO score\n",
        "\n",
        "  #property information\n",
        "  property_values = np.random.lognormal(mean=12.8, sigma=0.5, size=num_customers)\n",
        "  property_values = (np.round(property_values/5000)* 5000).astype(int)\n",
        "\n",
        "  property_types = np.random.choice(['Single Family', 'Condo', 'Townhouse'],\n",
        "                                    size=num_customers,\n",
        "                                    p=[0.7, 0.2, 0.1])\n",
        "\n",
        "\n",
        "  all_states = [\n",
        "    'AL', 'AK', 'AZ', 'AR', 'CA', 'CO', 'CT', 'DE', 'FL', 'GA',\n",
        "    'HI', 'ID', 'IL', 'IN', 'IA', 'KS', 'KY', 'LA', 'ME', 'MD',\n",
        "    'MA', 'MI', 'MN', 'MS', 'MO', 'MT', 'NE', 'NV', 'NH', 'NJ',\n",
        "    'NM', 'NY', 'NC', 'ND', 'OH', 'OK', 'OR', 'PA', 'RI', 'SC',\n",
        "    'SD', 'TN', 'TX', 'UT', 'VT', 'VA', 'WA', 'WV', 'WI', 'WY'\n",
        "]\n",
        "\n",
        "  #State weights are based population of each state - a percentage of total US\n",
        "  #population. I pulled this data and calculated in seperate Excel spreadsheet.\n",
        "  state_weights = {\n",
        "      'AL':0.015, 'AK':0.002, 'AZ':0.022, 'AR':0.01, 'CA':0.117, 'CO':0.018,\n",
        "      'CT':0.011, 'DE':0.004, 'FL':0.07, 'GA':0.033, 'HI':0.004, 'ID':0.006,\n",
        "      'IL':0.038, 'IN':0.02, 'IA':0.009, 'KS':0.009, 'KY':0.012, 'LA':0.013,\n",
        "      'ME':0.004, 'MD':0.018, 'MA':0.021, 'MI':0.03, 'MN':0.017, 'MS':0.009,\n",
        "      'MO':0.018, 'MT':0.003, 'NE':0.006, 'NV':0.009, 'NH':0.004, 'NJ':0.027,\n",
        "      'NM':0.006, 'NY':0.059, 'NC':0.033, 'ND':0.002, 'OH':0.035, 'OK':0.012,\n",
        "      'OR':0.012, 'PA':0.039, 'RI':0.003, 'SC':0.016, 'SD':0.003, 'TN':0.021,\n",
        "      'TX':0.094, 'UT':0.01, 'VT':0.002, 'VA':0.026, 'WA':0.023, 'WV':0.005,\n",
        "      'WI':0.017, 'WY':0.002\n",
        "      }\n",
        "  # Ensure weights are normalized\n",
        "  weights_array = np.array([state_weights[state] for state in all_states])\n",
        "  probabilities = weights_array / weights_array.sum()  # Ensures sum = 1\n",
        "\n",
        "  # Generate synthetic states\n",
        "  num_customers = 1000\n",
        "  states = np.random.choice(all_states, size=num_customers, p=probabilities)\n",
        "\n",
        "  # Loan information - using LTV of 60% to 95%\n",
        "  loan_amounts = property_values * np.random.uniform(0.60, 0.95, num_customers)\n",
        "  loan_amounts = np.round(loan_amounts / 1000) * 1000  # Round to nearest $1000\n",
        "\n",
        "  down_payments = property_values - loan_amounts\n",
        "\n",
        "  # Interest rates based on credit score - usig a credit score range of 580 to 850\n",
        "  #starting with a \"base rate\" 8.5% for a 580 credit score - as credit scores rise the interest rate decreases\n",
        "  interest_rates = 8.0 - (credit_scores - 580) * (3.5 / (850-580)) + np.random.normal(0, 0.2, num_customers)\n",
        "  interest_rates = np.clip(interest_rates, 3.0, 8.5)\n",
        "  interest_rates = np.round(interest_rates * 100) / 100  # Round to 2 decimal places\n",
        "\n",
        "  # Loan terms (years)\n",
        "  loan_terms = np.random.choice([20, 30], size=num_customers, p=[0.1, 0.90])\n",
        "\n",
        "\n",
        "  #origination dates (within the past 10 years)\n",
        "  today = datetime.now()\n",
        "  max_days = 365 * 10   #10 year\n",
        "  origination_days_ago = np.random.randint(0, max_days, num_customers)\n",
        "  origination_dates = [(today - timedelta(days=int(days))).strftime('%Y-%m-%d') for days in origination_days_ago]\n",
        "\n",
        " # Calculate monthly payments (simplified)\n",
        "  monthly_rate = interest_rates / 100 / 12\n",
        "  loan_terms_months = loan_terms * 12\n",
        "  monthly_payments = loan_amounts * (monthly_rate * (1 + monthly_rate) ** loan_terms_months) / ((1 + monthly_rate) ** loan_terms_months - 1)\n",
        "  monthly_payments = np.round(monthly_payments, 2)\n",
        "\n",
        "  # Current balance based on how long ago the loan started\n",
        "  # Simple calculation - not accounting for amortization properly\n",
        "  payments_made = origination_days_ago / 30\n",
        "  total_payments = loan_terms_months\n",
        "  remaining_principal_ratio = 1 - (payments_made / total_payments) * 0.5  # Simplified calculation\n",
        "  current_balances = loan_amounts * np.clip(remaining_principal_ratio, 0, 1)\n",
        "  current_balances = np.round(current_balances, 2)\n",
        "\n",
        "  # Loan status\n",
        "  # Most loans are current, some are delinquent, a few are in default\n",
        "  delinquency_prob = 0.08  # 8% chance of delinquency\n",
        "  default_prob = 0.03      # 3% chance of default\n",
        "\n",
        "  status_random = np.random.random(num_customers)\n",
        "  loan_status = ['Current'] * num_customers\n",
        "  for i in range(num_customers):\n",
        "      if status_random[i] < default_prob:\n",
        "          loan_status[i] = 'Default'\n",
        "      elif status_random[i] < default_prob + delinquency_prob:\n",
        "          loan_status[i] = 'Delinquent'\n",
        "\n",
        "  # Days delinquent for non-current loans\n",
        "  days_delinquent = [0] * num_customers\n",
        "  for i in range(num_customers):\n",
        "      if loan_status[i] == 'Delinquent':\n",
        "          days_delinquent[i] = np.random.randint(30, 120)\n",
        "      elif loan_status[i] == 'Default':\n",
        "          days_delinquent[i] = np.random.randint(120, 500)\n",
        "\n",
        "  # Generate customer names\n",
        "  first_names = [fake.first_name() for _ in range(num_customers)]\n",
        "  last_names = [fake.last_name() for _ in range(num_customers)]\n",
        "\n",
        "  # Generate addresses\n",
        "  addresses = [fake.street_address() for _ in range(num_customers)]\n",
        "  cities = [fake.city() for _ in range(num_customers)]\n",
        "  zip_codes = [fake.zipcode() for _ in range(num_customers)]\n",
        "\n",
        "  # Create the dataframe\n",
        "  mortgage_data = pd.DataFrame({\n",
        "      'customer_id': customer_ids,\n",
        "      'first_name': first_names,\n",
        "      'last_name': last_names,\n",
        "      'age': ages,\n",
        "      'annual_income': incomes,\n",
        "      'credit_score': credit_scores,\n",
        "      'address': addresses,\n",
        "      'city': cities,\n",
        "      'state': states,\n",
        "      'zip_code': zip_codes,\n",
        "      'property_type': property_types,\n",
        "      'property_value': property_values,\n",
        "      'loan_amount': loan_amounts,\n",
        "      'down_payment': down_payments,\n",
        "      'interest_rate': interest_rates,\n",
        "      'loan_term_years': loan_terms,\n",
        "      'origination_date': origination_dates,\n",
        "      'monthly_payment': monthly_payments,\n",
        "      'current_balance': current_balances,\n",
        "      'loan_status': loan_status,\n",
        "      'days_delinquent': days_delinquent\n",
        "  })\n",
        "\n",
        "  return mortgage_data"
      ],
      "metadata": {
        "id": "hml1I9bbo85Y"
      },
      "execution_count": null,
      "outputs": []
    },
    {
      "cell_type": "code",
      "source": [
        "# Generate the data\n",
        "mortgage_df = generate_mortgage_data(num_customers)"
      ],
      "metadata": {
        "id": "UDhWrhpFDrBK"
      },
      "execution_count": null,
      "outputs": []
    },
    {
      "cell_type": "code",
      "source": [
        "#Preview the data\n",
        "print(mortgage_df.head())\n",
        "print(\"\\nDataset shape:\", mortgage_df.shape)\n",
        "print(\"\\nSummary statistics:\")\n",
        "print(mortgage_df.describe())"
      ],
      "metadata": {
        "id": "TXl6crI3Duh3",
        "colab": {
          "base_uri": "https://localhost:8080/"
        },
        "outputId": "f85d3717-51ef-4b47-ecde-956cf65f612d"
      },
      "execution_count": null,
      "outputs": [
        {
          "output_type": "stream",
          "name": "stdout",
          "text": [
            "   customer_id first_name last_name  age  annual_income  credit_score  \\\n",
            "0         1001   Danielle    Garcia   49         120533           665   \n",
            "1         1002      Angel  Jennings   43          95065           708   \n",
            "2         1003     Joshua  Stephens   51          61686           656   \n",
            "3         1004    Jeffrey    Levine   60          43327           695   \n",
            "4         1005       Jill    Howard   42          84890           580   \n",
            "\n",
            "                     address              city state zip_code  ...  \\\n",
            "0             836 Hill Point        Piercestad    CO    51491  ...   \n",
            "1             687 Teresa Row      South Rachel    MI    74000  ...   \n",
            "2  566 Kevin Ferry Suite 334          Luisstad    ID    95622  ...   \n",
            "3            0866 Paul Glens  Lake Nicolemouth    AZ    43569  ...   \n",
            "4            1751 Brett Lane         Perezfurt    IL    23731  ...   \n",
            "\n",
            "  property_value  loan_amount  down_payment  interest_rate  loan_term_years  \\\n",
            "0         140000     115000.0       25000.0           7.08               30   \n",
            "1         235000     147000.0       88000.0           6.57               30   \n",
            "2         295000     229000.0       66000.0           6.91               30   \n",
            "3         930000     617000.0      313000.0           6.65               30   \n",
            "4         480000     384000.0       96000.0           8.28               30   \n",
            "\n",
            "   origination_date monthly_payment  current_balance  loan_status  \\\n",
            "0        2022-03-07          771.29        108903.94      Current   \n",
            "1        2015-09-10          935.92        123078.47      Current   \n",
            "2        2024-05-02         1509.73        225204.54      Current   \n",
            "3        2018-10-06         3960.92        548644.40      Current   \n",
            "4        2024-10-15         2892.97        380586.67      Current   \n",
            "\n",
            "  days_delinquent  \n",
            "0               0  \n",
            "1               0  \n",
            "2               0  \n",
            "3               0  \n",
            "4               0  \n",
            "\n",
            "[5 rows x 21 columns]\n",
            "\n",
            "Dataset shape: (1000, 21)\n",
            "\n",
            "Summary statistics:\n",
            "       customer_id          age  annual_income  credit_score  property_value  \\\n",
            "count  1000.000000  1000.000000    1000.000000   1000.000000    1.000000e+03   \n",
            "mean   1500.500000    44.693000   70173.817000    719.432000    4.091050e+05   \n",
            "std     288.819436     9.698599   36793.680571     72.227309    2.209415e+05   \n",
            "min    1001.000000    22.000000   13764.000000    580.000000    8.500000e+04   \n",
            "25%    1250.750000    38.000000   44217.500000    668.000000    2.500000e+05   \n",
            "50%    1500.500000    45.000000   61792.500000    719.500000    3.600000e+05   \n",
            "75%    1750.250000    51.000000   86201.000000    772.250000    5.050000e+05   \n",
            "max    2000.000000    75.000000  295538.000000    850.000000    1.835000e+06   \n",
            "\n",
            "        loan_amount   down_payment  interest_rate  loan_term_years  \\\n",
            "count  1.000000e+03    1000.000000    1000.000000      1000.000000   \n",
            "mean   3.140370e+05   95068.000000       6.186630        28.990000   \n",
            "std    1.738592e+05   70156.862539       0.952086         3.014795   \n",
            "min    5.700000e+04    7000.000000       4.080000        20.000000   \n",
            "25%    1.887500e+05   47000.000000       5.500000        30.000000   \n",
            "50%    2.745000e+05   78000.000000       6.170000        30.000000   \n",
            "75%    3.940000e+05  123250.000000       6.860000        30.000000   \n",
            "max    1.541000e+06  718000.000000       8.500000        30.000000   \n",
            "\n",
            "       monthly_payment  current_balance  days_delinquent  \n",
            "count      1000.000000     1.000000e+03      1000.000000  \n",
            "mean       1957.987540     2.860543e+05        14.674000  \n",
            "std        1092.651415     1.590519e+05        57.227937  \n",
            "min         317.710000     5.193069e+04         0.000000  \n",
            "25%        1160.355000     1.712939e+05         0.000000  \n",
            "50%        1706.120000     2.490021e+05         0.000000  \n",
            "75%        2441.272500     3.592442e+05         0.000000  \n",
            "max        8846.560000     1.330040e+06       499.000000  \n"
          ]
        }
      ]
    },
    {
      "cell_type": "code",
      "source": [
        "#export to CSV\n",
        "mortgage_df.to_csv('synthetic_mortgage_data.csv', index=False)\n",
        "print(\"n\\Data saved to 'synthetic_mortgage_data.csv'\")"
      ],
      "metadata": {
        "id": "ZU2Ly24NEaZT",
        "colab": {
          "base_uri": "https://localhost:8080/"
        },
        "outputId": "b8cc14eb-dd74-4c1a-a5cd-88e3d5ff2627"
      },
      "execution_count": null,
      "outputs": [
        {
          "output_type": "stream",
          "name": "stdout",
          "text": [
            "n\\Data saved to 'synthetic_mortgage_data.csv'\n"
          ]
        }
      ]
    }
  ]
}